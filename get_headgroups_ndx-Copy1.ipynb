{
 "cells": [
  {
   "cell_type": "code",
   "execution_count": 4,
   "id": "09c55ac2-d6f1-462b-9041-afc9069f0928",
   "metadata": {},
   "outputs": [],
   "source": [
    "import re\n",
    "\n",
    "def get_z_middle(file_gro):\n",
    "    with open(file_gro, 'r') as file:\n",
    "        for line in file:\n",
    "            pass # Read all lines\n",
    "        last_line = line.strip().split()\n",
    "        return float(last_line[2])/2\n",
    "\n",
    "def get_headgroups_ndx(input_file_gro, lipid, lipid_headgroup, z_middle):\n",
    "    index_upper = []\n",
    "    index_lower = []\n",
    "\n",
    "    def is_numeric_list(lst): # This function checks if all the strings in a list are numbers \n",
    "        try:\n",
    "            return all(isinstance(float(i), float) for i in lst)\n",
    "        except ValueError:\n",
    "            return False\n",
    "    \n",
    "    with open(input_file_gro, 'r') as file: # read the file\n",
    "        for line in file: # check line by line\n",
    "        \n",
    "            pattern = rf\"{lipid}|\\s+|{lipid_headgroup}\"         # selecting only the lines of the Phosphorus of POPC\n",
    "            if lipid in line and lipid_headgroup in line:\n",
    "                split_result = re.split(pattern, line.strip())\n",
    "                split_result = [s for s in split_result if s]\n",
    "                if is_numeric_list(split_result):\n",
    "                    # now sorting the headgroup atom from upper and lower\n",
    "                    if float(split_result[4]) < z_middle: \n",
    "                        index_lower.append(split_result[1])\n",
    "                    else:\n",
    "                        index_upper.append(split_result[1])\n",
    "    \n",
    "        with open('headgroups.ndx', 'w') as output:\n",
    "            output.write('[ headgroup_upper ]' + \"\\n\")\n",
    "            for i in range(0, len(IL_index_upper), 15):  # Process in chunks of 15\n",
    "                line = \" \".join(map(str, IL_index_upper[i:i+15]))  # Convert numbers to strings and join\n",
    "                output.write(line + \"\\n\")  # Write to file with a newline\n",
    "                \n",
    "            output.write(\"\\n\")\n",
    "            output.write('[ headgroup_lower ]' + \"\\n\")\n",
    "            for i in range(0, len(IL_index_lower), 15):  # Process in chunks of 15\n",
    "                line = \" \".join(map(str, IL_index_lower[i:i+15]))  # Convert numbers to strings and join\n",
    "                output.write(line + \"\\n\")  # Write to file with a newline\n",
    "\n",
    "z_middle = get_z_middle('md.gro')\n",
    "get_headgroups_ndx('md.gro', 'POPC','P', z_middle)"
   ]
  }
 ],
 "metadata": {
  "kernelspec": {
   "display_name": "Python 3 (ipykernel)",
   "language": "python",
   "name": "python3"
  },
  "language_info": {
   "codemirror_mode": {
    "name": "ipython",
    "version": 3
   },
   "file_extension": ".py",
   "mimetype": "text/x-python",
   "name": "python",
   "nbconvert_exporter": "python",
   "pygments_lexer": "ipython3",
   "version": "3.9.18"
  }
 },
 "nbformat": 4,
 "nbformat_minor": 5
}
